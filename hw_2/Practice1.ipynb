{
  "nbformat": 4,
  "nbformat_minor": 0,
  "metadata": {
    "colab": {
      "provenance": []
    },
    "kernelspec": {
      "name": "python3",
      "display_name": "Python 3"
    },
    "language_info": {
      "name": "python"
    }
  },
  "cells": [
    {
      "cell_type": "code",
      "source": [
        "class Chocolate:\n",
        "    def __init__(self, price, additive = None):\n",
        "        if price < 0:\n",
        "            raise ValueError('Цена должна быть больше нуля!')\n",
        "        else:\n",
        "            self.price = price\n",
        "        self.additive = additive\n",
        "\n",
        "    def show_my_chocolate(self):\n",
        "        if self.additive == None:\n",
        "            return f'Обычный шоколадный батончик'\n",
        "        else:\n",
        "            return f'Шоколадный батончик, добавка: {self.additive}'\n",
        "\n",
        "    def __str__(self):\n",
        "        return f'Шоколадный батончик, {self.price} рублей'\n",
        "\n",
        "snickers = Chocolate(10.5, 'миндаль')\n",
        "mars = Chocolate(29.99, 'карамель')\n",
        "bounty = Chocolate(37.33, 'кокос')\n",
        "nutella = Chocolate(5252.52)\n",
        "\n",
        "print(snickers.show_my_chocolate())\n",
        "print(snickers)\n",
        "print(mars.show_my_chocolate())\n",
        "print(mars)\n",
        "print(bounty.show_my_chocolate())\n",
        "print(bounty)\n",
        "print(nutella.show_my_chocolate())\n",
        "print(nutella)\n",
        "\n",
        "test_err = Chocolate(-5.55)"
      ],
      "metadata": {
        "colab": {
          "base_uri": "https://localhost:8080/",
          "height": 436
        },
        "id": "f7LaHpyJzxWY",
        "outputId": "d3f30088-a6c6-4875-d0e3-99f68498f1ba"
      },
      "execution_count": null,
      "outputs": [
        {
          "output_type": "stream",
          "name": "stdout",
          "text": [
            "Шоколадный батончик, добавка: миндаль\n",
            "Шоколадный батончик, 10.5 рублей\n",
            "Шоколадный батончик, добавка: карамель\n",
            "Шоколадный батончик, 29.99 рублей\n",
            "Шоколадный батончик, добавка: кокос\n",
            "Шоколадный батончик, 37.33 рублей\n",
            "Обычный шоколадный батончик\n",
            "Шоколадный батончик, 5252.52 рублей\n"
          ]
        },
        {
          "output_type": "error",
          "ename": "ValueError",
          "evalue": "Цена должна быть больше нуля!",
          "traceback": [
            "\u001b[0;31m---------------------------------------------------------------------------\u001b[0m",
            "\u001b[0;31mValueError\u001b[0m                                Traceback (most recent call last)",
            "\u001b[0;32m<ipython-input-1-095e0adabd45>\u001b[0m in \u001b[0;36m<cell line: 32>\u001b[0;34m()\u001b[0m\n\u001b[1;32m     30\u001b[0m \u001b[0mprint\u001b[0m\u001b[0;34m(\u001b[0m\u001b[0mnutella\u001b[0m\u001b[0;34m)\u001b[0m\u001b[0;34m\u001b[0m\u001b[0;34m\u001b[0m\u001b[0m\n\u001b[1;32m     31\u001b[0m \u001b[0;34m\u001b[0m\u001b[0m\n\u001b[0;32m---> 32\u001b[0;31m \u001b[0mtest_err\u001b[0m \u001b[0;34m=\u001b[0m \u001b[0mChocolate\u001b[0m\u001b[0;34m(\u001b[0m\u001b[0;34m-\u001b[0m\u001b[0;36m5.55\u001b[0m\u001b[0;34m)\u001b[0m\u001b[0;34m\u001b[0m\u001b[0;34m\u001b[0m\u001b[0m\n\u001b[0m",
            "\u001b[0;32m<ipython-input-1-095e0adabd45>\u001b[0m in \u001b[0;36m__init__\u001b[0;34m(self, price, additive)\u001b[0m\n\u001b[1;32m      2\u001b[0m     \u001b[0;32mdef\u001b[0m \u001b[0m__init__\u001b[0m\u001b[0;34m(\u001b[0m\u001b[0mself\u001b[0m\u001b[0;34m,\u001b[0m \u001b[0mprice\u001b[0m\u001b[0;34m,\u001b[0m \u001b[0madditive\u001b[0m \u001b[0;34m=\u001b[0m \u001b[0;32mNone\u001b[0m\u001b[0;34m)\u001b[0m\u001b[0;34m:\u001b[0m\u001b[0;34m\u001b[0m\u001b[0;34m\u001b[0m\u001b[0m\n\u001b[1;32m      3\u001b[0m         \u001b[0;32mif\u001b[0m \u001b[0mprice\u001b[0m \u001b[0;34m<\u001b[0m \u001b[0;36m0\u001b[0m\u001b[0;34m:\u001b[0m\u001b[0;34m\u001b[0m\u001b[0;34m\u001b[0m\u001b[0m\n\u001b[0;32m----> 4\u001b[0;31m             \u001b[0;32mraise\u001b[0m \u001b[0mValueError\u001b[0m\u001b[0;34m(\u001b[0m\u001b[0;34m'Цена должна быть больше нуля!'\u001b[0m\u001b[0;34m)\u001b[0m\u001b[0;34m\u001b[0m\u001b[0;34m\u001b[0m\u001b[0m\n\u001b[0m\u001b[1;32m      5\u001b[0m         \u001b[0;32melse\u001b[0m\u001b[0;34m:\u001b[0m\u001b[0;34m\u001b[0m\u001b[0;34m\u001b[0m\u001b[0m\n\u001b[1;32m      6\u001b[0m             \u001b[0mself\u001b[0m\u001b[0;34m.\u001b[0m\u001b[0mprice\u001b[0m \u001b[0;34m=\u001b[0m \u001b[0mprice\u001b[0m\u001b[0;34m\u001b[0m\u001b[0;34m\u001b[0m\u001b[0m\n",
            "\u001b[0;31mValueError\u001b[0m: Цена должна быть больше нуля!"
          ]
        }
      ]
    }
  ]
}